{
  "cells": [
    {
      "cell_type": "code",
      "execution_count": null,
      "metadata": {
        "id": "lOIpyJd0e6co"
      },
      "outputs": [],
      "source": [
        "import numpy as np #np as name or variable of numpy"
      ]
    },
    {
      "cell_type": "code",
      "execution_count": null,
      "metadata": {
        "colab": {
          "base_uri": "https://localhost:8080/"
        },
        "id": "u2T9mJz7e7yQ",
        "outputId": "2ad51227-9613-448f-e533-1c796837fabc"
      },
      "outputs": [
        {
          "name": "stdout",
          "output_type": "stream",
          "text": [
            "1.2\n"
          ]
        }
      ],
      "source": [
        "s = np.array(1.2) #this is a scalar\n",
        "print(s)\n"
      ]
    },
    {
      "cell_type": "code",
      "execution_count": null,
      "metadata": {
        "colab": {
          "base_uri": "https://localhost:8080/"
        },
        "id": "QECE9iCdfT6u",
        "outputId": "850552c3-3772-4e88-d2c6-7a37281f4256"
      },
      "outputs": [
        {
          "name": "stdout",
          "output_type": "stream",
          "text": [
            "[5.  7.  8.  0.5]\n"
          ]
        }
      ],
      "source": [
        "v = np.array([5, 7, 8, 0.5])\n",
        "print(v)"
      ]
    },
    {
      "cell_type": "code",
      "execution_count": null,
      "metadata": {
        "colab": {
          "base_uri": "https://localhost:8080/"
        },
        "id": "j0M18KaofvNU",
        "outputId": "fdc2b5a1-1c24-480d-bc9e-2a1113a5b105"
      },
      "outputs": [
        {
          "name": "stdout",
          "output_type": "stream",
          "text": [
            "[0 1] [1 0] [1 1]\n"
          ]
        }
      ],
      "source": [
        "v1 = np.array([0,1])\n",
        "v2 = np.array([1,0])\n",
        "v3 = np.array([1,1])\n",
        "\n",
        "print(v1, v2, v3)"
      ]
    },
    {
      "cell_type": "code",
      "execution_count": null,
      "metadata": {
        "colab": {
          "base_uri": "https://localhost:8080/"
        },
        "id": "kp0I7kiYf6o3",
        "outputId": "46fadc37-ae34-4051-bca4-a7d107bba7c9"
      },
      "outputs": [
        {
          "name": "stdout",
          "output_type": "stream",
          "text": [
            "[[0 1]\n",
            " [1 0]\n",
            " [1 1]]\n"
          ]
        }
      ],
      "source": [
        "M = np.array([v1, v2, v3])\n",
        "\n",
        "print(M)"
      ]
    },
    {
      "cell_type": "code",
      "execution_count": null,
      "metadata": {
        "colab": {
          "base_uri": "https://localhost:8080/"
        },
        "id": "0n2iaFbrgISo",
        "outputId": "6ea3558b-02f1-492a-edf7-cba3c336344f"
      },
      "outputs": [
        {
          "name": "stdout",
          "output_type": "stream",
          "text": [
            "[[1 2 3]\n",
            " [2 4 1]\n",
            " [2 2 8]]\n"
          ]
        }
      ],
      "source": [
        "A = np.array([\n",
        "              [1,2,3],\n",
        "              [2,4,1],\n",
        "              [2,2,8]\n",
        "])\n",
        "\n",
        "print(A)"
      ]
    },
    {
      "cell_type": "code",
      "execution_count": null,
      "metadata": {
        "id": "Y4qk402MgkIE"
      },
      "outputs": [],
      "source": [
        "M1 = np.array([\n",
        "               [1,0],\n",
        "               [1,0]\n",
        "])\n",
        "\n",
        "M2 = np.array([\n",
        "               [1,0],\n",
        "               [0,1]\n",
        "])\n",
        "\n",
        "M3 = np.array([\n",
        "               [2,0],\n",
        "               [1,1]\n",
        "])\n",
        "\n",
        "\n"
      ]
    },
    {
      "cell_type": "code",
      "execution_count": null,
      "metadata": {
        "colab": {
          "base_uri": "https://localhost:8080/"
        },
        "id": "O8hajGejgfb-",
        "outputId": "3788e1b4-0e0d-4ec0-ba8c-2b91bd015cc5"
      },
      "outputs": [
        {
          "name": "stdout",
          "output_type": "stream",
          "text": [
            "[[[1 0]\n",
            "  [1 0]]\n",
            "\n",
            " [[1 0]\n",
            "  [0 1]]\n",
            "\n",
            " [[2 0]\n",
            "  [1 1]]]\n"
          ]
        }
      ],
      "source": [
        "tau = np.array([M1,M2,M3])\n",
        "\n",
        "print(tau)"
      ]
    },
    {
      "cell_type": "markdown",
      "metadata": {
        "id": "ebGWRdG1hA5_"
      },
      "source": [
        "Describing Linear identities"
      ]
    },
    {
      "cell_type": "code",
      "execution_count": null,
      "metadata": {
        "colab": {
          "base_uri": "https://localhost:8080/"
        },
        "id": "EZucdq5zhGQH",
        "outputId": "c2be918e-7609-4fff-b32a-8da6e5a3e356"
      },
      "outputs": [
        {
          "data": {
            "text/plain": [
              "12"
            ]
          },
          "execution_count": 14,
          "metadata": {
            "tags": []
          },
          "output_type": "execute_result"
        }
      ],
      "source": [
        "tau.size #variable.size"
      ]
    },
    {
      "cell_type": "code",
      "execution_count": null,
      "metadata": {
        "colab": {
          "base_uri": "https://localhost:8080/"
        },
        "id": "_5w17eOThn2H",
        "outputId": "abbf5176-57d6-4f09-d0fa-8fcc71a14afe"
      },
      "outputs": [
        {
          "data": {
            "text/plain": [
              "(3, 2, 2)"
            ]
          },
          "execution_count": 19,
          "metadata": {
            "tags": []
          },
          "output_type": "execute_result"
        }
      ],
      "source": [
        "##shape\n",
        "tau.shape"
      ]
    },
    {
      "cell_type": "markdown",
      "metadata": {
        "id": "-D4zRyfti5NH"
      },
      "source": [
        "Operations of Vectors\n",
        "\n"
      ]
    },
    {
      "cell_type": "code",
      "execution_count": null,
      "metadata": {
        "colab": {
          "base_uri": "https://localhost:8080/"
        },
        "id": "7msKTXdWi0f2",
        "outputId": "58ee4403-a331-456e-c5e4-c5e8a0d0c1fa"
      },
      "outputs": [
        {
          "name": "stdout",
          "output_type": "stream",
          "text": [
            "[0.         0.66666667]\n"
          ]
        }
      ],
      "source": [
        "#Operations of Vectors\n",
        "\n",
        "a1 = np.array([0,2])\n",
        "a2 = np.array([2,3])\n",
        "\n",
        "a3 = a1 / a2\n",
        "\n",
        "print(a3)"
      ]
    },
    {
      "cell_type": "code",
      "execution_count": null,
      "metadata": {
        "colab": {
          "base_uri": "https://localhost:8080/"
        },
        "id": "Tg_Xy9qXjoVr",
        "outputId": "279eb52f-2024-4481-fe7e-81dcb0321576"
      },
      "outputs": [
        {
          "data": {
            "text/plain": [
              "array([1, 9])"
            ]
          },
          "execution_count": 28,
          "metadata": {
            "tags": []
          },
          "output_type": "execute_result"
        }
      ],
      "source": [
        "a2**a1"
      ]
    },
    {
      "cell_type": "code",
      "execution_count": null,
      "metadata": {
        "colab": {
          "base_uri": "https://localhost:8080/"
        },
        "id": "nG3lTjw6kvQB",
        "outputId": "b07be6bf-ae05-4479-8d0c-c52c3c848313"
      },
      "outputs": [
        {
          "data": {
            "text/plain": [
              "7"
            ]
          },
          "execution_count": 32,
          "metadata": {
            "tags": []
          },
          "output_type": "execute_result"
        }
      ],
      "source": [
        "b1 = np.array([1,2])\n",
        "b2 = np.array([3,2])\n",
        "\n",
        "np.inner(b1,b2)\n",
        "#b1@b2 same same^^"
      ]
    },
    {
      "cell_type": "code",
      "execution_count": null,
      "metadata": {
        "colab": {
          "base_uri": "https://localhost:8080/"
        },
        "id": "i9HWOcNTmA_r",
        "outputId": "46de3531-ccec-477a-bdb3-5dbc07473a80"
      },
      "outputs": [
        {
          "data": {
            "text/plain": [
              "86.4"
            ]
          },
          "execution_count": 33,
          "metadata": {
            "tags": []
          },
          "output_type": "execute_result"
        }
      ],
      "source": [
        "weights = np.array([0.3,0.3,0.4])\n",
        "grades = np.array([80,88,90])\n",
        "\n",
        "np.inner(weights,grades)"
      ]
    },
    {
      "cell_type": "markdown",
      "metadata": {
        "id": "0-Bz7Uv6nkEQ"
      },
      "source": [
        "Matrices"
      ]
    },
    {
      "cell_type": "code",
      "execution_count": null,
      "metadata": {
        "colab": {
          "base_uri": "https://localhost:8080/"
        },
        "id": "oP_y-g3Rni-K",
        "outputId": "ebfcebe8-140b-4c6d-8748-561f39701179"
      },
      "outputs": [
        {
          "data": {
            "text/plain": [
              "array([1, 2, 3])"
            ]
          },
          "execution_count": 36,
          "metadata": {
            "tags": []
          },
          "output_type": "execute_result"
        }
      ],
      "source": [
        "B = np.array([\n",
        "              [1,2,3],\n",
        "              [4,5,6],\n",
        "              [7,8,9],\n",
        "              [10,11,12]\n",
        "])\n",
        "\n",
        "#Row\n",
        "B[0]"
      ]
    },
    {
      "cell_type": "code",
      "execution_count": null,
      "metadata": {
        "colab": {
          "base_uri": "https://localhost:8080/"
        },
        "id": "jClxeWeMoW_s",
        "outputId": "81761b60-32c6-4e69-a194-f61b3295438a"
      },
      "outputs": [
        {
          "data": {
            "text/plain": [
              "array([1, 4, 7])"
            ]
          },
          "execution_count": 39,
          "metadata": {
            "tags": []
          },
          "output_type": "execute_result"
        }
      ],
      "source": [
        "#all\n",
        "B[]"
      ]
    },
    {
      "cell_type": "code",
      "execution_count": null,
      "metadata": {
        "colab": {
          "base_uri": "https://localhost:8080/"
        },
        "id": "B1eQJ9K2oxlu",
        "outputId": "f54d4a72-da6b-4652-b578-9358b3156363"
      },
      "outputs": [
        {
          "data": {
            "text/plain": [
              "90"
            ]
          },
          "execution_count": 40,
          "metadata": {
            "tags": []
          },
          "output_type": "execute_result"
        }
      ],
      "source": [
        "B[:,0]@B[:,2]"
      ]
    },
    {
      "cell_type": "markdown",
      "metadata": {
        "id": "n1DbpYI6pHWI"
      },
      "source": [
        "Kinds of Matrices"
      ]
    },
    {
      "cell_type": "code",
      "execution_count": null,
      "metadata": {
        "colab": {
          "base_uri": "https://localhost:8080/"
        },
        "id": "vWCR_v0cpKGF",
        "outputId": "dd3e24b0-bc09-4444-8e7b-ac6d7ce06098"
      },
      "outputs": [
        {
          "data": {
            "text/plain": [
              "(1, 3)"
            ]
          },
          "execution_count": 41,
          "metadata": {
            "tags": []
          },
          "output_type": "execute_result"
        }
      ],
      "source": [
        "#Rows --> shape(1,m)\n",
        "\n",
        "row = np.array([[1,2,3]])\n",
        "row.shape"
      ]
    },
    {
      "cell_type": "code",
      "execution_count": null,
      "metadata": {
        "colab": {
          "base_uri": "https://localhost:8080/"
        },
        "id": "BIzzb73Rpkk9",
        "outputId": "35bdae17-5565-481d-853f-9a94413849c5"
      },
      "outputs": [
        {
          "data": {
            "text/plain": [
              "(3, 1)"
            ]
          },
          "execution_count": 42,
          "metadata": {
            "tags": []
          },
          "output_type": "execute_result"
        }
      ],
      "source": [
        "#Column --> shape(n,1)\n",
        "\n",
        "col = np.array([\n",
        "                [1],\n",
        "                [2],\n",
        "                [3]\n",
        "])\n",
        "col.shape"
      ]
    },
    {
      "cell_type": "code",
      "execution_count": null,
      "metadata": {
        "colab": {
          "base_uri": "https://localhost:8080/"
        },
        "id": "KMmsmx97p0-H",
        "outputId": "0d91232a-0adc-45e0-85dc-1b09df78829d"
      },
      "outputs": [
        {
          "data": {
            "text/plain": [
              "3"
            ]
          },
          "execution_count": 45,
          "metadata": {
            "tags": []
          },
          "output_type": "execute_result"
        }
      ],
      "source": [
        "tau.ndim #dimension"
      ]
    },
    {
      "cell_type": "code",
      "execution_count": null,
      "metadata": {
        "id": "ZXbQGJ3rq5LJ"
      },
      "outputs": [],
      "source": [
        "X = np.array([\n",
        "              [1,0,0],\n",
        "              [2,1,0.5],\n",
        "              [3,1,0.5]\n",
        "])\n",
        "\n",
        "X.sort\n"
      ]
    },
    {
      "cell_type": "code",
      "execution_count": null,
      "metadata": {
        "id": "m0BD7QT9sa9C"
      },
      "outputs": [],
      "source": [
        "##Square n = m"
      ]
    },
    {
      "cell_type": "code",
      "execution_count": null,
      "metadata": {
        "colab": {
          "base_uri": "https://localhost:8080/"
        },
        "id": "SD4D-sJ7sgbB",
        "outputId": "69eac6f4-cb68-4a46-8ef5-98e7866fb7e5"
      },
      "outputs": [
        {
          "data": {
            "text/plain": [
              "array([[1., 1., 1.],\n",
              "       [1., 1., 1.]])"
            ]
          },
          "execution_count": 49,
          "metadata": {
            "tags": []
          },
          "output_type": "execute_result"
        }
      ],
      "source": [
        "#Ones = all elements are 1\n",
        "n, m = 2,3\n",
        "ones = np.ones((n,m))\n",
        "ones\n",
        "\n"
      ]
    },
    {
      "cell_type": "code",
      "execution_count": null,
      "metadata": {
        "colab": {
          "base_uri": "https://localhost:8080/"
        },
        "id": "tzSk5_04s8QT",
        "outputId": "9bd38f72-6a36-4bdd-c128-6680f426b5ad"
      },
      "outputs": [
        {
          "data": {
            "text/plain": [
              "array([[0., 0., 0.],\n",
              "       [0., 0., 0.]])"
            ]
          },
          "execution_count": 51,
          "metadata": {
            "tags": []
          },
          "output_type": "execute_result"
        }
      ],
      "source": [
        "#Zeros = all elements are 0\n",
        "n, m = 2,3\n",
        "zeros = np.zeros((n,m))\n",
        "zeros"
      ]
    },
    {
      "cell_type": "code",
      "execution_count": null,
      "metadata": {
        "colab": {
          "base_uri": "https://localhost:8080/"
        },
        "id": "cg162vWqtGmr",
        "outputId": "aa93faa7-9a56-454d-db3e-ac511bb219cc"
      },
      "outputs": [
        {
          "data": {
            "text/plain": [
              "array([[5, 5, 5],\n",
              "       [5, 5, 5]])"
            ]
          },
          "execution_count": 52,
          "metadata": {
            "tags": []
          },
          "output_type": "execute_result"
        }
      ],
      "source": [
        "#full\n",
        "full = np.full((n,m),5)\n",
        "full"
      ]
    },
    {
      "cell_type": "code",
      "execution_count": null,
      "metadata": {
        "colab": {
          "base_uri": "https://localhost:8080/"
        },
        "id": "z75LIU3DtT1w",
        "outputId": "970a3f9b-acbe-420a-8e1c-c484816e2920"
      },
      "outputs": [
        {
          "name": "stdout",
          "output_type": "stream",
          "text": [
            "[[1. 0. 0. 0.]\n",
            " [0. 1. 0. 0.]\n",
            " [0. 0. 1. 0.]\n",
            " [0. 0. 0. 1.]]\n"
          ]
        }
      ],
      "source": [
        "#Identity Matrix\n",
        "#I = np.eye(3)\n",
        "I = np.identity(4)\n",
        "print(I)"
      ]
    },
    {
      "cell_type": "code",
      "execution_count": null,
      "metadata": {
        "colab": {
          "base_uri": "https://localhost:8080/"
        },
        "id": "rp0jiUjDt52Q",
        "outputId": "a045aa0e-4f1d-4cd9-99ab-a6057152bde7"
      },
      "outputs": [
        {
          "name": "stdout",
          "output_type": "stream",
          "text": [
            "[[1 0 0]\n",
            " [0 2 0]\n",
            " [0 0 3]]\n"
          ]
        }
      ],
      "source": [
        "#Diagonal Matrix\n",
        "d = np.diag([1,2,3])\n",
        "print(d)\n",
        "#Trace\n",
        "#trace_of_X = np.diag(X).sum()\n",
        "#trace_of_X"
      ]
    },
    {
      "cell_type": "code",
      "execution_count": null,
      "metadata": {
        "colab": {
          "base_uri": "https://localhost:8080/"
        },
        "id": "7bBPpdg5uwEn",
        "outputId": "f564c3cd-6fc8-45d7-ad0e-2547164b77a6"
      },
      "outputs": [
        {
          "data": {
            "text/plain": [
              "array([[2., 0., 0.],\n",
              "       [0., 2., 0.],\n",
              "       [0., 0., 2.]])"
            ]
          },
          "execution_count": 66,
          "metadata": {
            "tags": []
          },
          "output_type": "execute_result"
        }
      ],
      "source": [
        "#Scalar\n",
        "scalarm = np.diag([2,2,2])\n",
        "scalarm = 2*np.eye(3)\n",
        "scalarm"
      ]
    },
    {
      "cell_type": "markdown",
      "metadata": {
        "id": "EUazZ8SmvFte"
      },
      "source": [
        "Matrix Operations"
      ]
    },
    {
      "cell_type": "code",
      "execution_count": null,
      "metadata": {
        "id": "m_M-YddjvH5s"
      },
      "outputs": [],
      "source": [
        "#Element wise operations\n",
        "A = np.array([\n",
        "              [2,3],\n",
        "              [2,1]\n",
        "])\n",
        "B = np.array([\n",
        "              [1,1],\n",
        "              [-1,2]\n",
        "])\n",
        "\n",
        "A-B\n",
        "A+B\n",
        "A*B\n",
        "A/B\n",
        "A**B"
      ]
    },
    {
      "cell_type": "code",
      "execution_count": null,
      "metadata": {
        "colab": {
          "base_uri": "https://localhost:8080/"
        },
        "id": "zCKKfzGtvorS",
        "outputId": "1da7daf4-df23-4489-a16d-d587d60e5a42"
      },
      "outputs": [
        {
          "data": {
            "text/plain": [
              "array([[30, 36, 42],\n",
              "       [25, 32, 39],\n",
              "       [66, 78, 90]])"
            ]
          },
          "execution_count": 67,
          "metadata": {
            "tags": []
          },
          "output_type": "execute_result"
        }
      ],
      "source": [
        "#Matrix Algebra\n",
        "#Dot Product\n",
        "A@B"
      ]
    },
    {
      "cell_type": "code",
      "execution_count": null,
      "metadata": {
        "colab": {
          "base_uri": "https://localhost:8080/",
          "height": 197
        },
        "id": "91moEDinwmc2",
        "outputId": "9251a23b-9245-4a4a-f42e-c83b8cae189d"
      },
      "outputs": [
        {
          "ename": "TypeError",
          "evalue": "ignored",
          "output_type": "error",
          "traceback": [
            "\u001b[0;31m---------------------------------------------------------------------------\u001b[0m",
            "\u001b[0;31mTypeError\u001b[0m                                 Traceback (most recent call last)",
            "\u001b[0;32m<ipython-input-68-dfedfacba0e4>\u001b[0m in \u001b[0;36m<module>\u001b[0;34m()\u001b[0m\n\u001b[0;32m----> 1\u001b[0;31m \u001b[0mC\u001b[0m \u001b[0;34m=\u001b[0m \u001b[0mnp\u001b[0m\u001b[0;34m.\u001b[0m\u001b[0marray\u001b[0m\u001b[0;34m(\u001b[0m\u001b[0;34m[\u001b[0m\u001b[0;36m2\u001b[0m\u001b[0;34m,\u001b[0m\u001b[0;36m2\u001b[0m\u001b[0;34m]\u001b[0m\u001b[0;34m,\u001b[0m\u001b[0;34m[\u001b[0m\u001b[0;36m2\u001b[0m\u001b[0;34m,\u001b[0m\u001b[0;36m1\u001b[0m\u001b[0;34m]\u001b[0m\u001b[0;34m)\u001b[0m\u001b[0;34m\u001b[0m\u001b[0;34m\u001b[0m\u001b[0m\n\u001b[0m\u001b[1;32m      2\u001b[0m \u001b[0mD\u001b[0m \u001b[0;34m=\u001b[0m \u001b[0mnp\u001b[0m\u001b[0;34m.\u001b[0m\u001b[0marray\u001b[0m\u001b[0;34m(\u001b[0m\u001b[0;34m[\u001b[0m\u001b[0;36m3\u001b[0m\u001b[0;34m]\u001b[0m\u001b[0;34m,\u001b[0m\u001b[0;34m[\u001b[0m\u001b[0;36m3\u001b[0m\u001b[0;34m]\u001b[0m\u001b[0;34m,\u001b[0m\u001b[0;34m[\u001b[0m\u001b[0;36m3\u001b[0m\u001b[0;34m]\u001b[0m\u001b[0;34m)\u001b[0m\u001b[0;34m\u001b[0m\u001b[0;34m\u001b[0m\u001b[0m\n\u001b[1;32m      3\u001b[0m \u001b[0mC\u001b[0m\u001b[0;34m@\u001b[0m\u001b[0mD\u001b[0m\u001b[0;34m\u001b[0m\u001b[0;34m\u001b[0m\u001b[0m\n",
            "\u001b[0;31mTypeError\u001b[0m: Field elements must be 2- or 3-tuples, got '2'"
          ]
        }
      ],
      "source": [
        "C = np.array([2,2],[2,1])\n",
        "D = np.array([3],[3],[3])\n",
        "C@D #error"
      ]
    }
  ],
  "metadata": {
    "colab": {
      "provenance": []
    },
    "kernelspec": {
      "display_name": "Python 3",
      "name": "python3"
    },
    "language_info": {
      "name": "python"
    }
  },
  "nbformat": 4,
  "nbformat_minor": 0
}
