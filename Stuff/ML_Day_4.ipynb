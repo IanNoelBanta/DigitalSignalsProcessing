{
  "nbformat": 4,
  "nbformat_minor": 0,
  "metadata": {
    "colab": {
      "provenance": []
    },
    "kernelspec": {
      "name": "python3",
      "display_name": "Python 3"
    },
    "language_info": {
      "name": "python"
    }
  },
  "cells": [
    {
      "cell_type": "code",
      "metadata": {
        "id": "E4fvC6hg_94-"
      },
      "source": [
        "import numpy as np\n",
        "import math\n",
        "import matplotlib.pyplot as plt\n"
      ],
      "execution_count": null,
      "outputs": []
    },
    {
      "cell_type": "code",
      "metadata": {
        "id": "6eFLLsTvADlx"
      },
      "source": [
        "def f(x):\n",
        "  y = 2**x\n",
        "  return y"
      ],
      "execution_count": null,
      "outputs": []
    },
    {
      "cell_type": "code",
      "metadata": {
        "colab": {
          "base_uri": "https://localhost:8080/"
        },
        "id": "tRd6QvLQAYYE",
        "outputId": "632be185-4138-4965-e0be-f04917aaa331"
      },
      "source": [
        "X = np.arange(1,11)\n",
        "y = f(X)\n",
        "y"
      ],
      "execution_count": null,
      "outputs": [
        {
          "output_type": "execute_result",
          "data": {
            "text/plain": [
              "array([   2,    4,    8,   16,   32,   64,  128,  256,  512, 1024])"
            ]
          },
          "metadata": {},
          "execution_count": 18
        }
      ]
    },
    {
      "cell_type": "code",
      "metadata": {
        "colab": {
          "base_uri": "https://localhost:8080/",
          "height": 282
        },
        "id": "56F4UKQ_CuVE",
        "outputId": "b5b1c25b-9724-44b5-a18b-5e8f6c34034d"
      },
      "source": [
        "plt.plot(X,f(X))"
      ],
      "execution_count": null,
      "outputs": [
        {
          "output_type": "execute_result",
          "data": {
            "text/plain": [
              "[<matplotlib.lines.Line2D at 0x7f2086b3ee90>]"
            ]
          },
          "metadata": {},
          "execution_count": 29
        },
        {
          "output_type": "display_data",
          "data": {
            "image/png": "[encoded data removed]",
            "text/plain": [
              "<Figure size 432x288 with 1 Axes>"
            ]
          },
          "metadata": {
            "needs_background": "light"
          }
        }
      ]
    },
    {
      "cell_type": "code",
      "metadata": {
        "colab": {
          "base_uri": "https://localhost:8080/",
          "height": 282
        },
        "id": "1ts_XPVrDFK9",
        "outputId": "03555bd7-e801-4a9f-9fb6-13d7f8bf30ec"
      },
      "source": [
        "X = np.arange(-100,101)\n",
        "plt.plot(X,g(X))"
      ],
      "execution_count": null,
      "outputs": [
        {
          "output_type": "execute_result",
          "data": {
            "text/plain": [
              "[<matplotlib.lines.Line2D at 0x7f20861fd4d0>]"
            ]
          },
          "metadata": {},
          "execution_count": 34
        },
        {
          "output_type": "display_data",
          "data": {
            "image/png": "[encoded data removed]",
            "text/plain": [
              "<Figure size 432x288 with 1 Axes>"
            ]
          },
          "metadata": {
            "needs_background": "light"
          }
        }
      ]
    },
    {
      "cell_type": "code",
      "metadata": {
        "id": "OhnrGIrWAcUg"
      },
      "source": [
        "def g(x):\n",
        "  return x**2+3*x-2"
      ],
      "execution_count": null,
      "outputs": []
    },
    {
      "cell_type": "code",
      "metadata": {
        "colab": {
          "base_uri": "https://localhost:8080/"
        },
        "id": "TBhWDCxRBnM6",
        "outputId": "6a78630d-3f2a-4d36-d5da-41fa6e729753"
      },
      "source": [
        "A = np.arange(1,11,2)\n",
        "g(X)"
      ],
      "execution_count": null,
      "outputs": [
        {
          "output_type": "execute_result",
          "data": {
            "text/plain": [
              "array([  2,   8,  16,  26,  38,  52,  68,  86, 106, 128])"
            ]
          },
          "metadata": {},
          "execution_count": 22
        }
      ]
    },
    {
      "cell_type": "code",
      "metadata": {
        "id": "8VkVsjdPD9EL"
      },
      "source": [
        "def cubic(x):\n",
        "  return x**3+x**2+2*x-1"
      ],
      "execution_count": null,
      "outputs": []
    },
    {
      "cell_type": "code",
      "metadata": {
        "id": "laYzlITRDolB"
      },
      "source": [
        "cubic = lambda x: x**3+x**2+2*x-1"
      ],
      "execution_count": null,
      "outputs": []
    },
    {
      "cell_type": "code",
      "metadata": {
        "colab": {
          "base_uri": "https://localhost:8080/",
          "height": 293
        },
        "id": "7x_j1PbiEHjp",
        "outputId": "9a3bdedf-8a27-49e5-de2e-cccbf5bc3b1f"
      },
      "source": [
        "plt.plot(X,cubic(X))"
      ],
      "execution_count": null,
      "outputs": [
        {
          "output_type": "execute_result",
          "data": {
            "text/plain": [
              "[<matplotlib.lines.Line2D at 0x7f208615ced0>]"
            ]
          },
          "metadata": {},
          "execution_count": 43
        },
        {
          "output_type": "display_data",
          "data": {
            "image/png": "[encoded data removed]",
            "text/plain": [
              "<Figure size 432x288 with 1 Axes>"
            ]
          },
          "metadata": {
            "needs_background": "light"
          }
        }
      ]
    },
    {
      "cell_type": "code",
      "metadata": {
        "colab": {
          "base_uri": "https://localhost:8080/"
        },
        "id": "-gLmXR7yB6d3",
        "outputId": "e0297bee-19c4-489c-8347-a71a9c1c2faa"
      },
      "source": [
        "X = np.arange(-100,101)\n",
        "y_1 = linear_3(X)\n",
        "y_g =\n",
        "plt.plot(X,linear_1(X), label='+3')\n",
        "plt.plot(X,linear_2(X), label='-3')\n",
        "plt.plot(X,linear_2(X), label='3')\n",
        "plt.legend()\n",
        "plt.grid()\n",
        "plt.show()\n"
      ],
      "execution_count": null,
      "outputs": [
        {
          "output_type": "execute_result",
          "data": {
            "text/plain": [
              "array([  2,   8,  16,  26,  38,  52,  68,  86, 106, 128])"
            ]
          },
          "metadata": {},
          "execution_count": 24
        }
      ]
    },
    {
      "cell_type": "code",
      "metadata": {
        "colab": {
          "base_uri": "https://localhost:8080/"
        },
        "id": "1a5QNM-MCeol",
        "outputId": "d453f8ec-0dc8-4849-82e6-3da69eb069dd"
      },
      "source": [
        "g(f(X))"
      ],
      "execution_count": null,
      "outputs": [
        {
          "output_type": "execute_result",
          "data": {
            "text/plain": [
              "array([      8,      26,      86,     302,    1118,    4286,   16766,\n",
              "         66302,  263678, 1051646])"
            ]
          },
          "metadata": {},
          "execution_count": 26
        }
      ]
    },
    {
      "cell_type": "code",
      "metadata": {
        "colab": {
          "base_uri": "https://localhost:8080/",
          "height": 265
        },
        "id": "zXyZqEq8Cj8H",
        "outputId": "f4feb2b4-02d9-4cc6-8141-0ff08cad74ef"
      },
      "source": [
        "X = np.arange(-10,11)\n",
        "linear_1 = lambda x: 5*x+3\n",
        "linear_2 = lambda x: 5*x-3\n",
        "linear_2 = lambda x: (10 / 3)*x-3\n",
        "plt.plot(X,linear_1(X), label='+3')\n",
        "plt.plot(X,linear_2(X), label='-3')\n",
        "plt.plot(X,linear_2(X), label='3')\n",
        "plt.legend()\n",
        "plt.grid()\n",
        "plt.show()\n"
      ],
      "execution_count": null,
      "outputs": [
        {
          "output_type": "display_data",
          "data": {
            "image/png": "[encoded data removed]",
            "text/plain": [
              "<Figure size 432x288 with 1 Axes>"
            ]
          },
          "metadata": {
            "needs_background": "light"
          }
        }
      ]
    },
    {
      "cell_type": "code",
      "metadata": {
        "colab": {
          "base_uri": "https://localhost:8080/",
          "height": 282
        },
        "id": "xjea8g7pEhLu",
        "outputId": "3653b4ed-612d-43c8-e421-635019bb2798"
      },
      "source": [
        "plt.plot(X,linear(X))"
      ],
      "execution_count": null,
      "outputs": [
        {
          "output_type": "execute_result",
          "data": {
            "text/plain": [
              "[<matplotlib.lines.Line2D at 0x7f2085ffbcd0>]"
            ]
          },
          "metadata": {},
          "execution_count": 48
        },
        {
          "output_type": "display_data",
          "data": {
            "image/png": "[encoded data removed]",
            "text/plain": [
              "<Figure size 432x288 with 1 Axes>"
            ]
          },
          "metadata": {
            "needs_background": "light"
          }
        }
      ]
    },
    {
      "cell_type": "code",
      "metadata": {
        "id": "hCMOnVeUFpfX"
      },
      "source": [
        " = 5*x**2-2*x+3"
      ],
      "execution_count": null,
      "outputs": []
    },
    {
      "cell_type": "markdown",
      "metadata": {
        "id": "Tqb_PENSLl8g"
      },
      "source": [
        "Roots of Equations\n"
      ]
    },
    {
      "cell_type": "code",
      "metadata": {
        "colab": {
          "base_uri": "https://localhost:8080/"
        },
        "id": "ATcJNinfJj69",
        "outputId": "f8044fbc-8368-4dc6-e5c9-e514e55cf198"
      },
      "source": [
        "room = np.array([1,-1,-2]) #coefficients yung numbers sa loob\n",
        "np.roots(room)"
      ],
      "execution_count": null,
      "outputs": [
        {
          "output_type": "execute_result",
          "data": {
            "text/plain": [
              "array([ 2., -1.])"
            ]
          },
          "metadata": {},
          "execution_count": 58
        }
      ]
    },
    {
      "cell_type": "code",
      "metadata": {
        "colab": {
          "base_uri": "https://localhost:8080/"
        },
        "id": "rBGktYYr3Htw",
        "outputId": "6b51c83c-4bf5-4858-de28-fdf05c08e028"
      },
      "source": [
        "selim = np.array([2, -5, 52])\n",
        "np.roots(selim)"
      ],
      "execution_count": null,
      "outputs": [
        {
          "output_type": "execute_result",
          "data": {
            "text/plain": [
              "array([1.25+4.94342998j, 1.25-4.94342998j])"
            ]
          },
          "metadata": {},
          "execution_count": 3
        }
      ]
    },
    {
      "cell_type": "code",
      "metadata": {
        "id": "TAaYaL1pNEGn"
      },
      "source": [
        "from scipy import optimize as opt"
      ],
      "execution_count": null,
      "outputs": []
    },
    {
      "cell_type": "code",
      "metadata": {
        "colab": {
          "base_uri": "https://localhost:8080/"
        },
        "id": "h_EjCBO-NI_Y",
        "outputId": "b4a5f12a-78da-4f4b-f7fc-3617d98bde37"
      },
      "source": [
        "room = lambda x: x**2-x-2\n",
        "roots = []\n",
        "alpha = np.arange(0.1,5.1,0.1)\n",
        "alpha.size\n"
      ],
      "execution_count": null,
      "outputs": [
        {
          "output_type": "execute_result",
          "data": {
            "text/plain": [
              "50"
            ]
          },
          "metadata": {},
          "execution_count": 72
        }
      ]
    },
    {
      "cell_type": "code",
      "metadata": {
        "colab": {
          "base_uri": "https://localhost:8080/"
        },
        "id": "CZhXvBpBOv1n",
        "outputId": "c67e8c05-3962-4049-ad63-287163cc578b"
      },
      "source": [
        "for i in range(alpha.size):\n",
        "  print(room(1*alpha[i]))\n",
        "  print(room(-1*alpha[i]))\n",
        "\n",
        "\n",
        "  #print(opt.bisect(room,1,-1),1*alpha[i],-1*alpha[i])\n",
        ""
      ],
      "execution_count": null,
      "outputs": [
        {
          "output_type": "stream",
          "text": [
            "-2.09\n",
            "-1.89\n",
            "-2.16\n",
            "-1.76\n",
            "-2.21\n",
            "-1.6099999999999999\n",
            "-2.24\n",
            "-1.44\n",
            "-2.25\n",
            "-1.25\n",
            "-2.24\n",
            "-1.04\n",
            "-2.21\n",
            "-0.8099999999999998\n",
            "-2.16\n",
            "-0.5599999999999998\n",
            "-2.09\n",
            "-0.29000000000000004\n",
            "-2.0\n",
            "0.0\n",
            "-1.89\n",
            "0.3100000000000005\n",
            "-1.7599999999999998\n",
            "0.6400000000000006\n",
            "-1.6099999999999997\n",
            "0.9900000000000011\n",
            "-1.4399999999999997\n",
            "1.3600000000000003\n",
            "-1.2499999999999993\n",
            "1.7500000000000009\n",
            "-1.0399999999999996\n",
            "2.16\n",
            "-0.8099999999999996\n",
            "2.5900000000000007\n",
            "-0.5599999999999992\n",
            "3.040000000000001\n",
            "-0.2899999999999998\n",
            "3.5100000000000007\n",
            "0.0\n",
            "4.0\n",
            "0.31000000000000005\n",
            "4.51\n",
            "0.6400000000000006\n",
            "5.040000000000001\n",
            "0.9900000000000007\n",
            "5.590000000000002\n",
            "1.3600000000000012\n",
            "6.160000000000002\n",
            "1.7500000000000022\n",
            "6.7500000000000036\n",
            "2.16\n",
            "7.360000000000001\n",
            "2.5900000000000007\n",
            "7.990000000000002\n",
            "3.040000000000001\n",
            "8.640000000000002\n",
            "3.5100000000000016\n",
            "9.310000000000002\n",
            "4.0000000000000036\n",
            "10.000000000000004\n",
            "4.510000000000002\n",
            "10.71\n",
            "5.040000000000002\n",
            "11.440000000000001\n",
            "5.590000000000002\n",
            "12.190000000000003\n",
            "6.160000000000002\n",
            "12.960000000000003\n",
            "6.7500000000000036\n",
            "13.750000000000004\n",
            "7.360000000000001\n",
            "14.560000000000002\n",
            "7.990000000000002\n",
            "15.39\n",
            "8.64\n",
            "16.240000000000002\n",
            "9.310000000000002\n",
            "17.110000000000003\n",
            "10.0\n",
            "18.0\n",
            "10.709999999999999\n",
            "18.909999999999997\n",
            "11.440000000000001\n",
            "19.84\n",
            "12.189999999999998\n",
            "20.79\n",
            "12.959999999999997\n",
            "21.759999999999994\n",
            "13.75\n",
            "22.75\n",
            "14.559999999999995\n",
            "23.759999999999998\n",
            "15.390000000000004\n",
            "24.790000000000003\n",
            "16.24\n",
            "25.84\n",
            "17.110000000000007\n",
            "26.910000000000004\n",
            "18.0\n",
            "28.0\n"
          ],
          "name": "stdout"
        }
      ]
    },
    {
      "cell_type": "code",
      "metadata": {
        "id": "oJuvUwBHUfJY"
      },
      "source": [
        "A = np.array([\n",
        "              [2,3,-1],\n",
        "              [1,-1,1],\n",
        "              [-1,1,2]\n",
        "])\n",
        "\n",
        "b= np.array([0,1,3])\n"
      ],
      "execution_count": null,
      "outputs": []
    },
    {
      "cell_type": "code",
      "metadata": {
        "colab": {
          "base_uri": "https://localhost:8080/"
        },
        "id": "xVU5QMI8Zt0w",
        "outputId": "a402ba36-68e4-4df9-ab1e-68a3147851fc"
      },
      "source": [
        "A = np.array([\n",
        "              [1,3,0.5],\n",
        "              [1,2,0.5],\n",
        "              [2,4,1]\n",
        "])\n",
        "\n",
        "b= np.array([2,3,5])\n",
        "np.linalg.det(A)"
      ],
      "execution_count": null,
      "outputs": [
        {
          "output_type": "execute_result",
          "data": {
            "text/plain": [
              "0.0"
            ]
          },
          "metadata": {},
          "execution_count": 87
        }
      ]
    },
    {
      "cell_type": "code",
      "metadata": {
        "colab": {
          "base_uri": "https://localhost:8080/"
        },
        "id": "97iO_aXYWoaK",
        "outputId": "6ab4c834-b563-4029-962c-0e59faa40017"
      },
      "source": [
        "np.linalg.inv(A)@b  #inverse of A tapos dot product sa b"
      ],
      "execution_count": null,
      "outputs": [
        {
          "output_type": "execute_result",
          "data": {
            "text/plain": [
              "array([0.06666667, 0.4       , 1.33333333])"
            ]
          },
          "metadata": {},
          "execution_count": 83
        }
      ]
    },
    {
      "cell_type": "code",
      "metadata": {
        "colab": {
          "base_uri": "https://localhost:8080/"
        },
        "id": "Kt7rim_PXshe",
        "outputId": "13db308a-9bdf-4da1-873b-fdb769aea88a"
      },
      "source": [
        "np.linalg.solve(A,b)"
      ],
      "execution_count": null,
      "outputs": [
        {
          "output_type": "execute_result",
          "data": {
            "text/plain": [
              "array([0.06666667, 0.4       , 1.33333333])"
            ]
          },
          "metadata": {},
          "execution_count": 84
        }
      ]
    },
    {
      "cell_type": "code",
      "metadata": {
        "colab": {
          "base_uri": "https://localhost:8080/"
        },
        "id": "Pp54MMHocNoH",
        "outputId": "668c0330-3dc0-49f5-af3e-c4c9ef9cbb8c"
      },
      "source": [
        "#try catch\n",
        "\n",
        "x, y = 1,0\n",
        "try:\n",
        "  quot = x/y\n",
        "  print(quot)\n",
        "except:\n",
        "  print(\"oh no u suck\")\n",
        "finally:\n",
        "  y+=1.0e-12\n",
        "  quot = x/y\n",
        "  print(quot)"
      ],
      "execution_count": null,
      "outputs": [
        {
          "output_type": "stream",
          "text": [
            "oh no u suck\n",
            "1000000000000.0\n"
          ],
          "name": "stdout"
        }
      ]
    },
    {
      "cell_type": "code",
      "metadata": {
        "id": "csDbsA3ecjGO",
        "colab": {
          "base_uri": "https://localhost:8080/"
        },
        "outputId": "14bf83a4-62f7-47ec-861b-79f0a16d2b1d"
      },
      "source": [
        "num_meth = np.array([1,-2.5,-1.8,2.356]) #coefficients yung numbers sa loob\n",
        "np.roots(num_meth)"
      ],
      "execution_count": null,
      "outputs": [
        {
          "output_type": "execute_result",
          "data": {
            "text/plain": [
              "array([ 2.84166885, -1.09726557,  0.75559672])"
            ]
          },
          "metadata": {},
          "execution_count": 3
        }
      ]
    }
  ]
}