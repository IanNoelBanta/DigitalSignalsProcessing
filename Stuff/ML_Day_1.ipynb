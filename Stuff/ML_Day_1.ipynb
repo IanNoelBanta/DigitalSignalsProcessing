{
  "nbformat": 4,
  "nbformat_minor": 0,
  "metadata": {
    "colab": {
      "provenance": []
    },
    "kernelspec": {
      "name": "python3",
      "display_name": "Python 3"
    },
    "language_info": {
      "name": "python"
    }
  },
  "cells": [
    {
      "cell_type": "code",
      "metadata": {
        "id": "XR1OtrEtzTG3"
      },
      "source": [
        "a = 1\n",
        "b = 'hello'\n",
        "a = 2"
      ],
      "execution_count": null,
      "outputs": []
    },
    {
      "cell_type": "code",
      "metadata": {
        "colab": {
          "base_uri": "https://localhost:8080/"
        },
        "id": "nB6zAazEzv0g",
        "outputId": "83ae46aa-e14e-4f83-b997-a67ed164f0ab"
      },
      "source": [
        "print(b,a)"
      ],
      "execution_count": null,
      "outputs": [
        {
          "output_type": "stream",
          "text": [
            "hello 2\n"
          ],
          "name": "stdout"
        }
      ]
    },
    {
      "cell_type": "code",
      "metadata": {
        "id": "5YO0HtqH19LY"
      },
      "source": [],
      "execution_count": null,
      "outputs": []
    },
    {
      "cell_type": "code",
      "metadata": {
        "id": "XYj1aVgp1904"
      },
      "source": [],
      "execution_count": null,
      "outputs": []
    }
  ]
}