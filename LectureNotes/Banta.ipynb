{
 "cells": [
  {
   "cell_type": "code",
   "execution_count": 9,
   "metadata": {},
   "outputs": [
    {
     "name": "stdout",
     "output_type": "stream",
     "text": [
      "[0 1]\n",
      "[1 2]\n",
      "[4 3]\n",
      "[0 1]\n",
      "[1 2]\n",
      "[4 3]\n"
     ]
    }
   ],
   "source": [
    "import numpy as np\n",
    "\n",
    "a = np.array([1, 0])\n",
    "b = np.array([2, 1])\n",
    "c = np.array([3, 4])\n",
    "\n",
    "def f(x):\n",
    "    x1, x2 = x[1], x[0]\n",
    "    return np.array([x1, x2])\n",
    "\n",
    "def g(x):\n",
    "    return x[::-1]\n",
    "\n",
    "print(f(a))\n",
    "print(f(b))\n",
    "print(f(c))\n",
    "\n",
    "print(g(a))\n",
    "print(g(b))\n",
    "print(g(c))\n",
    "\n",
    "# x = np.array([[0, 1],[2,3],[3,4]])\n",
    "# print(np.flip(x))"
   ]
  }
 ],
 "metadata": {
  "kernelspec": {
   "display_name": "base",
   "language": "python",
   "name": "python3"
  },
  "language_info": {
   "codemirror_mode": {
    "name": "ipython",
    "version": 3
   },
   "file_extension": ".py",
   "mimetype": "text/x-python",
   "name": "python",
   "nbconvert_exporter": "python",
   "pygments_lexer": "ipython3",
   "version": "3.11.4"
  },
  "orig_nbformat": 4
 },
 "nbformat": 4,
 "nbformat_minor": 2
}
